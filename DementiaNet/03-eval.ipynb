{
 "cells": [
  {
   "cell_type": "code",
   "execution_count": 17,
   "metadata": {},
   "outputs": [],
   "source": [
    "import numpy as np\n",
    "import pandas as pd\n",
    "\n",
    "from pathlib import Path\n",
    "from tqdm import tqdm\n",
    "\n",
    "import torch\n",
    "import torchaudio\n",
    "\n",
    "import os\n",
    "import sys\n",
    "\n",
    "from datasets import load_dataset,\n",
    "from transformers import AutoConfig, Wav2Vec2FeatureExtractor\n",
    "\n",
    "from sklearn.metrics import classification_report"
   ]
  },
  {
   "cell_type": "code",
   "execution_count": 38,
   "metadata": {},
   "outputs": [
    {
     "name": "stderr",
     "output_type": "stream",
     "text": [
      "Using custom data configuration default-16a54a529957e89e\n",
      "Reusing dataset csv (/Users/shreyas/.cache/huggingface/datasets/csv/default-16a54a529957e89e/0.0.0/bf68a4c4aefa545d0712b2fcbb1b327f905bbe2f6425fbc5e8c25234acb9e14a)\n",
      "100%|██████████| 2/2 [00:00<00:00, 832.62it/s]"
     ]
    },
    {
     "name": "stdout",
     "output_type": "stream",
     "text": [
      "Dataset({\n",
      "    features: ['file', 'label', 'path'],\n",
      "    num_rows: 192\n",
      "})\n",
      "Dataset({\n",
      "    features: ['file', 'label', 'path'],\n",
      "    num_rows: 32\n",
      "})\n"
     ]
    },
    {
     "name": "stderr",
     "output_type": "stream",
     "text": [
      "\n"
     ]
    }
   ],
   "source": [
    "data_files = {\n",
    "    'train': '/Users/shreyas/Downloads/type3/train_multilabel.csv', \n",
    "    'valid': '/Users/shreyas/Downloads/type3/test_multilabel.csv'\n",
    "    }\n",
    "\n",
    "dataset = load_dataset(\"csv\", data_files=data_files, delimiter=\"\\t\", )\n",
    "train_data = dataset['train']\n",
    "test_data = dataset['valid']\n",
    "\n",
    "print(train_data)\n",
    "print(test_data)"
   ]
  },
  {
   "cell_type": "code",
   "execution_count": 39,
   "metadata": {},
   "outputs": [],
   "source": [
    "input_col = 'path'\n",
    "output_col = 'label'"
   ]
  },
  {
   "cell_type": "code",
   "execution_count": 40,
   "metadata": {},
   "outputs": [
    {
     "name": "stdout",
     "output_type": "stream",
     "text": [
      "Number of classes: 4\n",
      "Classes: ['five years to dementia', 'no dementia', 'ten years to dementia', 'zero years to dementia']\n"
     ]
    }
   ],
   "source": [
    "label_list = train_data.unique(output_col)\n",
    "label_list.sort()\n",
    "num_classes = len(label_list)\n",
    "print(f\"Number of classes: {num_classes}\")\n",
    "print(f\"Classes: {label_list}\")"
   ]
  },
  {
   "cell_type": "code",
   "execution_count": 41,
   "metadata": {},
   "outputs": [],
   "source": [
    "num_labels=num_classes,\n",
    "label2id={label: i for i, label in enumerate(label_list)},\n",
    "id2label={i: label for i, label in enumerate(label_list)},"
   ]
  },
  {
   "cell_type": "code",
   "execution_count": 23,
   "metadata": {},
   "outputs": [],
   "source": [
    "from dataclasses import dataclass\n",
    "from typing import Optional, Tuple\n",
    "import torch\n",
    "from transformers.file_utils import ModelOutput\n",
    "\n",
    "@dataclass\n",
    "class SpeechClassifierModelOutput(ModelOutput):\n",
    "    loss: Optional[torch.FloatTensor] = None\n",
    "    logits: torch.FloatTensor = None\n",
    "    hidden_states: Optional[Tuple[torch.FloatTensor]] = None\n",
    "    attentions: Optional[Tuple[torch.FloatTensor]] = None"
   ]
  },
  {
   "cell_type": "code",
   "execution_count": 22,
   "metadata": {},
   "outputs": [],
   "source": [
    "import torch \n",
    "import torch.nn as nn\n",
    "from transformers.models.wav2vec2.modeling_wav2vec2 import (Wav2Vec2PreTrainedModel, Wav2Vec2Model)\n",
    "\n",
    "class Wav2Vec2ClassificationHead(nn.Module):\n",
    "    \"\"\"head for wav2vec classification task\"\"\"\n",
    "    def __init__(self, config):\n",
    "        super().__init__()\n",
    "        self.dense = nn.Linear(config.hidden_size, config.hidden_size)\n",
    "        self.dropout = nn.Dropout(config.final_dropout)\n",
    "        self.out_proj = nn.Linear(config.hidden_size, config.num_labels)\n",
    "\n",
    "    def forward(self, features, **kwargs):\n",
    "        x = features\n",
    "        x = self.dense(x)\n",
    "        x = self.dropout(x)\n",
    "        x = torch.tanh(x)\n",
    "        x = self.dropout(x)\n",
    "        x = self.out_proj(x)\n",
    "        return x\n",
    "\n",
    "class Wav2Vec2ForSpeechClassification(Wav2Vec2PreTrainedModel):\n",
    "    def __init__(self, config):\n",
    "        super().__init__(config)\n",
    "        self.num_labels = config.num_labels\n",
    "        self.pooling_mode = config.pooling_mode\n",
    "        self.config = config\n",
    "\n",
    "        self.wav2vec2 = Wav2Vec2Model(config)\n",
    "        self.classifier = Wav2Vec2ClassificationHead(config)\n",
    "\n",
    "        self.init_weights()\n",
    "\n",
    "    def freeze_feature_extractor(self):\n",
    "        self.wav2vec2.feature_extractor._freeze_parameters()\n",
    "\n",
    "    def merge_strategy(self, hidden_states, mode=\"mean\"):\n",
    "        if mode == \"mean\":\n",
    "            return torch.mean(hidden_states, dim=1)\n",
    "        elif mode == \"max\":\n",
    "            return torch.max(hidden_states, dim=1)[0]\n",
    "        elif mode == \"sum\":\n",
    "            return torch.sum(hidden_states, dim=1)\n",
    "        else:\n",
    "            raise ValueError(f\"Unknown merge strategy: {mode}\")\n",
    "\n",
    "    def forward(\n",
    "        self,\n",
    "        input_values,\n",
    "        attention_mask=None,\n",
    "        output_attentions=None, \n",
    "        output_hidden_states=None,\n",
    "        return_dict=None,\n",
    "        labels=None,\n",
    "    ):\n",
    "        return_dict = return_dict if return_dict is not None else self.config.use_return_dict\n",
    "        outputs = self.wav2vec2(input_values, \n",
    "                            attention_mask=attention_mask, \n",
    "                            output_attentions=output_attentions, \n",
    "                            output_hidden_states=output_hidden_states, \n",
    "                            return_dict=return_dict)  \n",
    "\n",
    "        hidden_states = outputs[0]\n",
    "        hidden_states = self.merge_strategy(hidden_states, self.pooling_mode)\n",
    "        logits = self.classifier(hidden_states)\n",
    "\n",
    "        loss = None\n",
    "        if labels is not None:\n",
    "            loss_fct = nn.CrossEntropyLoss()\n",
    "            loss = loss_fct(logits.view(-1, self.num_labels), labels.view(-1))\n",
    "\n",
    "        if not return_dict:\n",
    "            output = (logits,) + outputs[2:]\n",
    "            return ((loss,) + output) if loss is not None else output\n",
    "\n",
    "        return SpeechClassifierModelOutput(loss=loss, logits=logits, hidden_states=outputs.hidden_states, attentions=outputs.attentions)"
   ]
  },
  {
   "cell_type": "code",
   "execution_count": 24,
   "metadata": {},
   "outputs": [
    {
     "name": "stdout",
     "output_type": "stream",
     "text": [
      "Device: cpu\n"
     ]
    }
   ],
   "source": [
    "device = torch.device(\"cuda\" if torch.cuda.is_available() else \"cpu\")\n",
    "print(f\"Device: {device}\")"
   ]
  },
  {
   "cell_type": "code",
   "execution_count": 25,
   "metadata": {},
   "outputs": [
    {
     "name": "stderr",
     "output_type": "stream",
     "text": [
      "Downloading: 100%|██████████| 1.18G/1.18G [00:45<00:00, 27.8MB/s] \n"
     ]
    }
   ],
   "source": [
    "model_name_or_path = \"shreyasgite/wav2vec2-large-xls-r-300m-dementianet\"\n",
    "config = AutoConfig.from_pretrained(model_name_or_path)\n",
    "feature_extractor = Wav2Vec2FeatureExtractor.from_pretrained(model_name_or_path)\n",
    "model = Wav2Vec2ForSpeechClassification.from_pretrained(model_name_or_path).to(device)"
   ]
  },
  {
   "cell_type": "code",
   "execution_count": 34,
   "metadata": {},
   "outputs": [],
   "source": [
    "def speech_to_array(batch):\n",
    "    speech, sr = torchaudio.load(batch[\"path\"])\n",
    "    transform = torchaudio.transforms.Resample(sr, 16000)\n",
    "    speech = transform(speech)[0].numpy().squeeze()\n",
    "    batch[\"speech\"] = speech\n",
    "    #return random_subsample(speech, max_length=8)\n",
    "    return batch\n",
    "\n",
    "def predict(batch):\n",
    "    features = feature_extractor(batch[\"speech\"], sampling_rate=feature_extractor.sampling_rate, return_tensors=\"pt\", padding=True)\n",
    "\n",
    "    input_values = features.input_values.to(device)\n",
    "\n",
    "    with torch.no_grad():\n",
    "        logits = model(input_values).logits \n",
    "\n",
    "    pred_ids = torch.argmax(logits, dim=-1).detach().cpu().numpy()\n",
    "    batch[\"predicted\"] = pred_ids\n",
    "    return batch"
   ]
  },
  {
   "cell_type": "code",
   "execution_count": 42,
   "metadata": {},
   "outputs": [
    {
     "name": "stderr",
     "output_type": "stream",
     "text": [
      "100%|██████████| 32/32 [00:00<00:00, 34.86ex/s]\n"
     ]
    }
   ],
   "source": [
    "test_data = test_data.map(speech_to_array, None)\n"
   ]
  },
  {
   "cell_type": "code",
   "execution_count": 44,
   "metadata": {},
   "outputs": [
    {
     "name": "stderr",
     "output_type": "stream",
     "text": [
      "100%|██████████| 4/4 [22:24<00:00, 336.21s/ba]\n"
     ]
    }
   ],
   "source": [
    "result = test_data.map(predict, batched=True, batch_size=8)"
   ]
  },
  {
   "cell_type": "code",
   "execution_count": 43,
   "metadata": {},
   "outputs": [
    {
     "data": {
      "text/plain": [
       "['five years to dementia',\n",
       " 'no dementia',\n",
       " 'ten years to dementia',\n",
       " 'zero years to dementia']"
      ]
     },
     "execution_count": 43,
     "metadata": {},
     "output_type": "execute_result"
    }
   ],
   "source": [
    "label_list"
   ]
  },
  {
   "cell_type": "code",
   "execution_count": 68,
   "metadata": {},
   "outputs": [
    {
     "name": "stdout",
     "output_type": "stream",
     "text": [
      "[2, 3, 1, 2, 1, 1, 2, 2, 2, 1, 2, 0, 2, 1, 3, 0, 2, 1, 3, 0, 1, 2, 1, 0, 0, 0, 0, 3, 1, 3, 2, 0]\n",
      "[2, 0, 1, 0, 1, 0, 0, 0, 1, 2, 1, 1, 0, 1, 1, 1, 0, 1, 0, 0, 1, 0, 2, 0, 0, 0, 0, 0, 2, 1, 0, 0]\n",
      "ten years to dementia -> ten years to dementia\n",
      "no dementia -> no dementia\n",
      "no dementia -> no dementia\n",
      "no dementia -> no dementia\n",
      "no dementia -> no dementia\n",
      "five years to dementia -> five years to dementia\n",
      "no dementia -> no dementia\n",
      "five years to dementia -> five years to dementia\n",
      "five years to dementia -> five years to dementia\n",
      "five years to dementia -> five years to dementia\n",
      "five years to dementia -> five years to dementia\n",
      "five years to dementia -> five years to dementia\n"
     ]
    },
    {
     "data": {
      "text/plain": [
       "0.375"
      ]
     },
     "execution_count": 68,
     "metadata": {},
     "output_type": "execute_result"
    }
   ],
   "source": [
    "y_true = [config.label2id[name] for name in result[\"label\"]]\n",
    "y_pred = result[\"predicted\"]\n",
    "\n",
    "y_true_labels = result[\"label\"]\n",
    "y_pred_labels = [config.id2label[id] for id in y_pred]\n",
    "\n",
    "print(y_true)\n",
    "print(y_pred)\n",
    "\n",
    "for i in range(len(y_true)):\n",
    "    if y_pred_labels[i] == y_true_labels[i]:\n",
    "        print(f\"{y_true_labels[i]} -> {y_pred_labels[i]}\")\n",
    "\n",
    "from sklearn.metrics import accuracy_score\n",
    "\n",
    "accuracy_score(y_true, y_pred)"
   ]
  },
  {
   "cell_type": "code",
   "execution_count": 63,
   "metadata": {},
   "outputs": [
    {
     "data": {
      "text/plain": [
       "array([[6, 2, 0, 0],\n",
       "       [1, 5, 3, 0],\n",
       "       [7, 2, 1, 0],\n",
       "       [3, 2, 0, 0]])"
      ]
     },
     "execution_count": 63,
     "metadata": {},
     "output_type": "execute_result"
    }
   ],
   "source": [
    "from sklearn.metrics import confusion_matrix\n",
    "cf_matrix = confusion_matrix(y_true_labels, y_pred_labels, labels=label_list)\n",
    "cf_matrix"
   ]
  },
  {
   "cell_type": "code",
   "execution_count": 64,
   "metadata": {},
   "outputs": [
    {
     "data": {
      "image/png": "[encoded data removed]",
      "text/plain": [
       "<Figure size 432x288 with 2 Axes>"
      ]
     },
     "metadata": {
      "needs_background": "light"
     },
     "output_type": "display_data"
    }
   ],
   "source": [
    "import seaborn as sns\n",
    "import matplotlib.pyplot as plt\n",
    "import matplotlib_inline as mpl\n",
    "\n",
    "cm = pd.DataFrame(cf_matrix, index = [i for i in label_list], columns = [i for i in label_list])\n",
    "ax = sns.heatmap(cm, annot=True)\n",
    "\n",
    "ax.set_title('Seaborn Confusion Matrix with labels\\n\\n');\n",
    "ax.set_xlabel('\\nPredicted Values')\n",
    "ax.set_ylabel('Actual Values ');\n",
    "\n",
    "## Display the visualization of the Confusion Matrix.\n",
    "plt.show()"
   ]
  },
  {
   "cell_type": "code",
   "execution_count": 47,
   "metadata": {},
   "outputs": [
    {
     "name": "stdout",
     "output_type": "stream",
     "text": [
      "                        precision    recall  f1-score   support\n",
      "\n",
      "five years to dementia       0.35      0.75      0.48         8\n",
      "           no dementia       0.45      0.56      0.50         9\n",
      " ten years to dementia       0.25      0.10      0.14        10\n",
      "zero years to dementia       0.00      0.00      0.00         5\n",
      "\n",
      "              accuracy                           0.38        32\n",
      "             macro avg       0.26      0.35      0.28        32\n",
      "          weighted avg       0.29      0.38      0.31        32\n",
      "\n"
     ]
    }
   ],
   "source": [
    "print(classification_report(y_true, y_pred, target_names=label_list))"
   ]
  },
  {
   "cell_type": "code",
   "execution_count": null,
   "metadata": {},
   "outputs": [],
   "source": []
  }
 ],
 "metadata": {
  "interpreter": {
   "hash": "0fae35cc05639b72d84cc149ce67d77e7e04742affdae80189e20a364448146c"
  },
  "kernelspec": {
   "display_name": "Python 3.8.12 64-bit ('transformer': conda)",
   "language": "python",
   "name": "python3"
  },
  "language_info": {
   "codemirror_mode": {
    "name": "ipython",
    "version": 3
   },
   "file_extension": ".py",
   "mimetype": "text/x-python",
   "name": "python",
   "nbconvert_exporter": "python",
   "pygments_lexer": "ipython3",
   "version": "3.8.12"
  },
  "orig_nbformat": 4
 },
 "nbformat": 4,
 "nbformat_minor": 2
}
